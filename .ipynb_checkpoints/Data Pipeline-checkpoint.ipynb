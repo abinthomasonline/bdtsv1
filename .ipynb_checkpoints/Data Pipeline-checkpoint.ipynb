{
 "cells": [
  {
   "cell_type": "code",
   "execution_count": 1,
   "id": "525d0c0e-e873-4ccd-8ec0-f942b28b24a7",
   "metadata": {},
   "outputs": [
    {
     "ename": "ModuleNotFoundError",
     "evalue": "No module named 'tabtransformer'",
     "output_type": "error",
     "traceback": [
      "\u001b[0;31m---------------------------------------------------------------------------\u001b[0m",
      "\u001b[0;31mModuleNotFoundError\u001b[0m                       Traceback (most recent call last)",
      "Cell \u001b[0;32mIn[1], line 9\u001b[0m\n\u001b[1;32m      7\u001b[0m \u001b[38;5;28;01mfrom\u001b[39;00m \u001b[38;5;21;01mdatetime\u001b[39;00m \u001b[38;5;28;01mimport\u001b[39;00m timedelta, date\n\u001b[1;32m      8\u001b[0m \u001b[38;5;28;01mimport\u001b[39;00m \u001b[38;5;21;01mjson\u001b[39;00m\n\u001b[0;32m----> 9\u001b[0m \u001b[38;5;28;01mfrom\u001b[39;00m \u001b[38;5;21;01mtabtransformer\u001b[39;00m \u001b[38;5;28;01mimport\u001b[39;00m TableTransformer\n\u001b[1;32m     10\u001b[0m \u001b[38;5;28;01mfrom\u001b[39;00m \u001b[38;5;21;01mtabtransformer\u001b[39;00m\u001b[38;5;21;01m.\u001b[39;00m\u001b[38;5;21;01mutils\u001b[39;00m \u001b[38;5;28;01mimport\u001b[39;00m load_data\n\u001b[1;32m     11\u001b[0m \u001b[38;5;28;01mimport\u001b[39;00m \u001b[38;5;21;01mtorch\u001b[39;00m\u001b[38;5;21;01m.\u001b[39;00m\u001b[38;5;21;01mnn\u001b[39;00m \u001b[38;5;28;01mas\u001b[39;00m \u001b[38;5;21;01mnn\u001b[39;00m\n",
      "\u001b[0;31mModuleNotFoundError\u001b[0m: No module named 'tabtransformer'"
     ]
    }
   ],
   "source": [
    "import pandas as pd\n",
    "import numpy as np\n",
    "import os\n",
    "from pathlib import Path\n",
    "import torch\n",
    "import datetime\n",
    "from datetime import timedelta, date\n",
    "import json\n",
    "from tabtransformer import TableTransformer\n",
    "from tabtransformer.utils import load_data\n",
    "import torch.nn as nn\n"
   ]
  },
  {
   "cell_type": "code",
   "execution_count": null,
   "id": "fb6cf416-c1ec-424d-8dd1-33b554ef6d02",
   "metadata": {},
   "outputs": [],
   "source": [
    "def set_value(row_number, assigned_value):\n",
    "    return assigned_value[row_number]\n",
    "    \n",
    "store_type_dic = {}\n",
    "store_size_dic = {}\n",
    "for i in range(45):\n",
    "    store_type_dic[df_parent['Store'][i]] = df_parent['Type'][i]\n",
    "    store_size_dic[df_parent['Store'][i]] = df_parent['Size'][i]\n",
    "\n",
    "df_train['Type'] = df_train['Store'].apply(set_value, args=(store_type_dic, ))\n",
    "df_train['Size'] = df_train['Store'].apply(set_value, args=(store_size_dic, ))"
   ]
  },
  {
   "cell_type": "code",
   "execution_count": null,
   "id": "bbb8a4c0-5a87-43bc-a871-2f2a954c56ac",
   "metadata": {},
   "outputs": [],
   "source": [
    "df_train = pd.read_csv(\"datasets/CustomDataset/child.csv\")\n",
    "df_train = df_train.drop(columns = 'IsHoliday')\n",
    "df_parent = pd.read_csv(\"datasets/CustomDataset/parent.csv\")\n",
    "df_train = df_train.iloc[:, [0, 1, 4, 5, 2, 3]]\n",
    "df_static_cond = df_train.drop(columns = ['Date','Weekly_Sales'])\n",
    "df_static_cond.to_csv('datasets/CustomDataset/Walmart_static_cond.csv', index=False)\n"
   ]
  },
  {
   "cell_type": "code",
   "execution_count": null,
   "id": "e3b63f53-f08b-43d9-b111-602e9293df08",
   "metadata": {},
   "outputs": [],
   "source": [
    "learn_args_path = '../../Experiments/DataPreprocessing/params/tabular-learn/gan_core.json'\n",
    "data = 'datasets/CustomDataset/Walmart_static_cond.csv'\n",
    "with open(learn_args_path, \"r\") as f:\n",
    "    learn_args = json.load(f)\n",
    "TableTransformer.validate_kwargs(data, learn_args, learning=True)\n",
    "transformer_args = TableTransformer.learn_args(data, json_compatible=True, **learn_args)\n",
    "TableTransformer.validate_kwargs(data, transformer_args)\n",
    "data = load_data(data, **transformer_args.get(\"data_format_args\", {}))  # Skip if `data` is `pd.DataFrame` already\n",
    "# For further steps, if \"data_format_args\" is in `transformer_args`, remove it\n",
    "if \"data_format_args\" in transformer_args:\n",
    "    transformer_args.pop(\"data_format_args\")\n",
    "transformer = TableTransformer.make(**transformer_args)\n",
    "transformer.fit(data)\n",
    "print(\"static_cond_dim =\", transformer.tensorized_dim)\n",
    "transformed = transformer.transform(data, start_action='drop', end_action='tensorize') # For details of actions, see below\n",
    "transformed = transformed.set_axis([\"&\".join(c) for c in transformed.columns], axis=1)\n",
    "transformed.to_csv(\"datasets/CustomDataset/Walmart_static_cond_preprocessed.csv\", index = False)"
   ]
  },
  {
   "cell_type": "code",
   "execution_count": null,
   "id": "0d658bf8-d927-4f70-a6c9-45f5e6cce8f8",
   "metadata": {},
   "outputs": [],
   "source": [
    "df_static_cond_preprocessed = pd.read_csv(\"datasets/CustomDataset/Walmart_static_cond_preprocessed.csv\")\n",
    "df_ts = df_train['Weekly_Sales']\n",
    "frames = [df_static_cond_preprocessed, df_ts]\n",
    "df_combined = pd.concat(frames, axis=1)\n",
    "df_final_train = df_combined[0:143*2600]\n",
    "df_final_test = df_combined[143*2600:]\n",
    "df_final_train.to_csv(\"datasets/CustomDataset/Walmart_train.csv\", index = False)\n",
    "df_final_test.to_csv(\"datasets/CustomDataset/Walmart_test.csv\", index = False)\n"
   ]
  }
 ],
 "metadata": {
  "kernelspec": {
   "display_name": "Python 3 (ipykernel)",
   "language": "python",
   "name": "python3"
  },
  "language_info": {
   "codemirror_mode": {
    "name": "ipython",
    "version": 3
   },
   "file_extension": ".py",
   "mimetype": "text/x-python",
   "name": "python",
   "nbconvert_exporter": "python",
   "pygments_lexer": "ipython3",
   "version": "3.12.7"
  }
 },
 "nbformat": 4,
 "nbformat_minor": 5
}
