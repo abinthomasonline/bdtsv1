{
 "cells": [
  {
   "cell_type": "code",
   "execution_count": null,
   "id": "626bf7a8-4ac0-4120-9ecd-10e55486cf3b",
   "metadata": {},
   "outputs": [],
   "source": [
    "import seaborn as sns\n",
    "import pandas as pd\n",
    "import numpy as np\n",
    "import matplotlib.pyplot as plt"
   ]
  },
  {
   "cell_type": "code",
   "execution_count": null,
   "id": "209dc1e4-9299-4ea8-86a6-6f0600bfe638",
   "metadata": {},
   "outputs": [],
   "source": [
    "df_gen = pd.read_csv(\"../../Experiments/Cond_TimeVQVAE/exp_saved_models/Exp_orignial/Walmart.csv\")\n",
    "df_gen = df_gen.rename(columns={\"Unnamed: 0\":\"Source\", \"0\":\"Weekly_Sales\"})\n",
    "df_gen = df_gen.assign(Source='Syn')\n",
    "df_real = pd.read_csv(\"../../Experiments/Cond_TimeVQVAE/datasets/CustomDataset/Walmart_test.csv\")\n",
    "df_real = df_real['Weekly_Sales']\n",
    "df_real = df_real.to_frame().reset_index()\n",
    "df_real = df_real.rename(columns={\"index\":\"Source\"})\n",
    "df_real = df_real.assign(Source='Real')\n",
    "frames = [df_gen, df_real]\n",
    "plot = pd.concat(frames)\n",
    "sns.displot(data=plot,x='Weekly_Sales', hue=\"Source\", kind=\"hist\", log_scale=10)\n"
   ]
  }
 ],
 "metadata": {
  "kernelspec": {
   "display_name": "Python 3 (ipykernel)",
   "language": "python",
   "name": "python3"
  },
  "language_info": {
   "codemirror_mode": {
    "name": "ipython",
    "version": 3
   },
   "file_extension": ".py",
   "mimetype": "text/x-python",
   "name": "python",
   "nbconvert_exporter": "python",
   "pygments_lexer": "ipython3",
   "version": "3.12.7"
  }
 },
 "nbformat": 4,
 "nbformat_minor": 5
}
